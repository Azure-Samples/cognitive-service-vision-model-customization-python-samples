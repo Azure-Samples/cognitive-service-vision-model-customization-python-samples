{
 "cells": [
  {
   "attachments": {},
   "cell_type": "markdown",
   "metadata": {},
   "source": [
    "# Export Data from Custom Vision Project Workspace to Your Own Blob\n",
    "\n",
    "This notebook helps export your image data and annotations from the workspace of a Custom Vision Service project to your own blob ready for training by Cognitive Service Vision Model Customization Service.\n",
    "\n",
    "## Install the dependencies\n",
    "\n",
    "Run the following command to install the requried dependencies:"
   ]
  },
  {
   "cell_type": "code",
   "execution_count": null,
   "metadata": {
    "vscode": {
     "languageId": "bat"
    }
   },
   "outputs": [],
   "source": [
    "pip install cognitive-service-vision-model-customization-python-samples"
   ]
  },
  {
   "attachments": {},
   "cell_type": "markdown",
   "metadata": {},
   "source": [
    "## Provide the required info and credentials\n",
    "\n",
    "Now provide info/credentials of your Custom Vision project and your own blob. The Custom Vision key and endpoint can be found in project settings page:\n",
    "\n",
    "![check media/cvs_key_endpoint.png if pic does not show up](./media/cvs_key_endpoint.png)"
   ]
  },
  {
   "cell_type": "code",
   "execution_count": null,
   "metadata": {
    "vscode": {
     "languageId": "bat"
    }
   },
   "outputs": [],
   "source": [
    "azure_storage_account_name = ''\n",
    "azure_storage_account_key = ''\n",
    "azure_storage_container_name = ''\n",
    "\n",
    "custom_vision_training_key = ''\n",
    "custom_vision_endpoint = ''\n",
    "custom_vision_project_id = ''"
   ]
  },
  {
   "attachments": {},
   "cell_type": "markdown",
   "metadata": {},
   "source": [
    "## Run the export\n",
    "\n",
    "Now we will run the migration, the images will be saved to `{project_name}_{project_id}/images` folder under your specified azure blob storage container, and the coco json file will be saved to `{project_name}_{project_id}/train.json` in your specified azure blob storage container.\n",
    "\n",
    "Note:\n",
    "- Both tagged and untagged images will be Exported\n",
    "- Negative tag will be exported as well"
   ]
  },
  {
   "cell_type": "code",
   "execution_count": null,
   "metadata": {
    "vscode": {
     "languageId": "bat"
    }
   },
   "outputs": [],
   "source": [
    "from export_cvs_data_to_blob_storage import export_data\n",
    "import logging\n",
    "logging.getLogger().setLevel(logging.INFO) \n",
    "logging.getLogger('azure.core.pipeline.policies.http_logging_policy').setLevel(logging.WARNING)\n",
    "\n",
    "n_process = 8\n",
    "export_data(azure_storage_account_name, azure_storage_account_key, azure_storage_container_name, custom_vision_endpoint, custom_vision_training_key, custom_vision_project_id, n_process)"
   ]
  },
  {
   "attachments": {},
   "cell_type": "markdown",
   "metadata": {},
   "source": [
    "## Train with Cognitive Service Vision Model Customization on Exported Data\n",
    "\n",
    "Please refer to [cognitive_service_vision_model_customization.ipynb](cognitive_service_vision_model_customization.ipynb) for training instructions."
   ]
  }
 ],
 "metadata": {
  "kernelspec": {
   "display_name": "Python 3",
   "language": "python",
   "name": "python3"
  },
  "language_info": {
   "codemirror_mode": {
    "name": "ipython",
    "version": 3
   },
   "file_extension": ".py",
   "mimetype": "text/x-python",
   "name": "python",
   "nbconvert_exporter": "python",
   "pygments_lexer": "ipython3",
   "version": "3.8.8"
  },
  "orig_nbformat": 4,
  "vscode": {
   "interpreter": {
    "hash": "2790c31357c8ba2c3943b53ce111c55730e38f0e9239632a8827c0596114be0c"
   }
  }
 },
 "nbformat": 4,
 "nbformat_minor": 2
}
