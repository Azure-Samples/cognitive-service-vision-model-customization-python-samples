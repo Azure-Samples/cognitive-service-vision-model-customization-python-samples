{
 "cells": [
  {
   "attachments": {},
   "cell_type": "markdown",
   "metadata": {},
   "source": [
    "# Tutorial: Cognitive Service Vision Planogram Compliance using Python\n",
    "\n",
    "This is a tutorial about using Cognitive Service Vision Planogram Compliance.\n",
    "\n",
    "Cognitive Service Vision Planogram Compliance are tools to check planogram compliance using planogram and product recognition result. This allows users to compare the actual arrangement of products on the shelves with the predetermined planogram, identifying any deviations and taking necessary corrective actions. The combination of accurate product recognition and retail execution KPIs empowers retailers to enhance their store layouts, improve customer experiences, and optimize sales performance.\n",
    "\n",
    "Currently, planogram compliance feature are available in **EastUS**, **West US2**, and **West Europe** regions.\n",
    "\n",
    "Please create a computer vision resource on Azure portal, in **EastUS**, **West US2**, or **West Europe** region, if you don't already have one. You can use [Multi-service resource](https://learn.microsoft.com/en-us/azure/cognitive-services/cognitive-services-apis-create-account?tabs=multiservice%2Canomaly-detector%2Clanguage-service%2Ccomputer-vision%2Cwindows) as well. \n",
    "\n",
    "![check ../model_customization/media/create_cv_resource.png if pic does not show up](../model_customization/media/create_cv_resource.png)"
   ]
  },
  {
   "attachments": {},
   "cell_type": "markdown",
   "metadata": {},
   "source": [
    "## Install the python samples package\n",
    "\n",
    "Install the sample code including utility code helping you use Python to run planogram compliance in this tutorial."
   ]
  },
  {
   "cell_type": "code",
   "execution_count": null,
   "metadata": {},
   "outputs": [],
   "source": [
    "pip install cognitive-service-vision-model-customization-python-samples"
   ]
  },
  {
   "cell_type": "code",
   "execution_count": null,
   "metadata": {},
   "outputs": [],
   "source": [
    "import json\n",
    "import logging\n",
    "import uuid\n",
    "logging.getLogger().setLevel(logging.INFO)\n",
    "\n",
    "import cv2\n",
    "import numpy as np\n",
    "from PIL import Image\n",
    "\n",
    "from cognitive_service_vision_model_customization_python_samples import ResourceType\n",
    "from cognitive_service_vision_model_customization_python_samples.clients import PlanogramComplianceClient, ProductRecognitionClient\n",
    "from cognitive_service_vision_model_customization_python_samples.models import PlanogramMatchingRequest, ProductRecognition\n",
    "from cognitive_service_vision_model_customization_python_samples.tools import visualize_matching_result, visualize_planogram"
   ]
  },
  {
   "attachments": {},
   "cell_type": "markdown",
   "metadata": {},
   "source": [
    "## Credentials\n",
    "\n",
    "Resource name and resource key are needed for accessing the service, which you can find here:\n",
    "\n",
    "![check media/credentials.png if pic does not show up](./resources/credentials.png)\n",
    "\n",
    "If you are using a multi-service resource, endpoint can be found here:\n",
    "\n",
    "![check resources/multi_service_endpoint.png if pic does not show up](./resources/multi_service_endpoint.png)"
   ]
  },
  {
   "cell_type": "code",
   "execution_count": null,
   "metadata": {},
   "outputs": [],
   "source": [
    "# Resource and key\n",
    "resource_type = ResourceType.SINGLE_SERVICE_RESOURCE # or ResourceType.MULTI_SERVICE_RESOURCE\n",
    "\n",
    "resource_name = None\n",
    "multi_service_endpoint = None\n",
    "\n",
    "if resource_type == ResourceType.SINGLE_SERVICE_RESOURCE:\n",
    "    resource_name = '{specify_your_resource_name}'\n",
    "    assert resource_name\n",
    "else:\n",
    "    multi_service_endpoint = '{specify_your_service_endpoint}'\n",
    "    assert multi_service_endpoint\n",
    "\n",
    "resource_key = '{specify_your_resource_key}'"
   ]
  },
  {
   "attachments": {},
   "cell_type": "markdown",
   "metadata": {},
   "source": [
    "## Prepare and load the planogram\n",
    "\n",
    "A planogram, also known as a plano, POG, plan-o-gram, schematic, or visual description, is a detailed visual map that establishes the position of the merchandise within a retail store. It is often used in the retail industry as a tool for space planning and product placement. This diagram shows precisely where each item in a store should be placed in order to maximize customer purchases.\n",
    "\n",
    "Below is a visualization of a sample planogram"
   ]
  },
  {
   "cell_type": "code",
   "execution_count": null,
   "metadata": {},
   "outputs": [],
   "source": [
    "planogram = json.load(open('./resources/sample_planogram.json', 'r'))\n",
    "viz_planogram = visualize_planogram(planogram, 800, './resources/sample_catalogs')\n",
    "viz_planogram = cv2.cvtColor(viz_planogram, cv2.COLOR_BGR2RGB)\n",
    "display(Image.fromarray(viz_planogram))"
   ]
  },
  {
   "attachments": {},
   "cell_type": "markdown",
   "metadata": {},
   "source": [
    "## Call prebuilt product recognition model"
   ]
  },
  {
   "cell_type": "code",
   "execution_count": null,
   "metadata": {},
   "outputs": [],
   "source": [
    "client = ProductRecognitionClient(resource_type, resource_name, multi_service_endpoint, resource_key)\n",
    "run_name = str(uuid.uuid4())\n",
    "model_name = 'ms-pretrained-product-detection'\n",
    "run = ProductRecognition(run_name, model_name)\n",
    "\n",
    "with open('./resources/sample_image.jpg', 'rb') as f:\n",
    "    img = f.read()\n",
    "\n",
    "try:\n",
    "    client.create_run(run, img, 'image/png')\n",
    "    recognition_result = client.wait_for_completion(run_name, model_name)\n",
    "finally:\n",
    "    client.delete_run(run_name, model_name)"
   ]
  },
  {
   "attachments": {},
   "cell_type": "markdown",
   "metadata": {},
   "source": [
    "## Call planogram matching (With prebuilt product recognition result)\n",
    "\n",
    "Planograme compliance will be most useful if you have trained a customized model that can recognize detailed products, so the planogram matching can help you identify if a product is placed in the correct place.\n",
    "\n",
    "With only the prebuilt product recognition model result, it's still useful to to planogram matching as it helps you identify which products on the shelf are out of stock and needs restock."
   ]
  },
  {
   "cell_type": "code",
   "execution_count": null,
   "metadata": {},
   "outputs": [],
   "source": [
    "client = PlanogramComplianceClient(resource_type, resource_name, multi_service_endpoint, resource_key)\n",
    "matching_request = PlanogramMatchingRequest(recognition_result.result, planogram)\n",
    "matching_result = client.match_planogram(matching_request)"
   ]
  },
  {
   "attachments": {},
   "cell_type": "markdown",
   "metadata": {},
   "source": [
    "## Visualize matching result (With prebuilt product recognition result)\n",
    "\n",
    "In the below result, the green boxes are planogram positions that are compliant, meaning that there's a product is placed at the right position on the shelf, the red boxes indicate that the position is not compliant because no product is detected so it's a gap."
   ]
  },
  {
   "cell_type": "code",
   "execution_count": null,
   "metadata": {},
   "outputs": [],
   "source": [
    "# Convert img data to numpy array and decode numpy array to OpenCV BGR image\n",
    "cv_img = cv2.imdecode(np.frombuffer(img, np.uint8), cv2.IMREAD_COLOR)\n",
    "cv_img = visualize_matching_result(cv_img, matching_result.to_dict(), planogram)\n",
    "cv_img = cv2.cvtColor(cv_img, cv2.COLOR_BGR2RGB)\n",
    "display(Image.fromarray(cv_img))"
   ]
  },
  {
   "attachments": {},
   "cell_type": "markdown",
   "metadata": {},
   "source": [
    "## Call planogram matching (With customized model product recognition result)\n",
    "\n",
    "Here we provid a sample response from a customized model, where detailed product names are recognized, we use this to match with the planogram using the planogram matching API"
   ]
  },
  {
   "cell_type": "code",
   "execution_count": null,
   "metadata": {},
   "outputs": [],
   "source": [
    "customized_recognition_result = json.load(open('./resources/sample_customized_recognition_result.json', 'r'))\n",
    "client = PlanogramComplianceClient(resource_type, resource_name, multi_service_endpoint, resource_key)\n",
    "matching_request = PlanogramMatchingRequest(customized_recognition_result, planogram)\n",
    "matching_result = client.match_planogram(matching_request)"
   ]
  },
  {
   "attachments": {},
   "cell_type": "markdown",
   "metadata": {},
   "source": [
    "## Visualize matching result (With prebuilt product recognition result)\n",
    "\n",
    "In the resulting image, color-coded boxes are used to depict the compliance status of various planogram positions. The green boxes represent positions that are fully compliant, denoting a perfect correlation between the detected product and the intended planogram configuration. On the other hand, the magenta boxes emphasize instances of non-compliance, where a product has been detected, but it does not correspond to the product assigned in the planogram. Finally, the red boxes point out non-compliant positions due to gaps, where no product is detected where one should exist."
   ]
  },
  {
   "cell_type": "code",
   "execution_count": null,
   "metadata": {},
   "outputs": [],
   "source": [
    "# Convert img data to numpy array and decode numpy array to OpenCV BGR image\n",
    "cv_img = cv2.imdecode(np.frombuffer(img, np.uint8), cv2.IMREAD_COLOR)\n",
    "cv_img = visualize_matching_result(cv_img, matching_result.to_dict(), planogram)\n",
    "cv_img = cv2.cvtColor(cv_img, cv2.COLOR_BGR2RGB)\n",
    "display(Image.fromarray(cv_img))"
   ]
  },
  {
   "attachments": {},
   "cell_type": "markdown",
   "metadata": {},
   "source": [
    "## Compare it with the planogram\n",
    "\n",
    "Comparing the above realogram with the below planogram to validate the correctness of matching"
   ]
  },
  {
   "cell_type": "code",
   "execution_count": null,
   "metadata": {},
   "outputs": [],
   "source": [
    "display(Image.fromarray(viz_planogram))"
   ]
  },
  {
   "cell_type": "code",
   "execution_count": null,
   "metadata": {},
   "outputs": [],
   "source": []
  }
 ],
 "metadata": {
  "kernelspec": {
   "display_name": "pytorch",
   "language": "python",
   "name": "python3"
  },
  "language_info": {
   "codemirror_mode": {
    "name": "ipython",
    "version": 3
   },
   "file_extension": ".py",
   "mimetype": "text/x-python",
   "name": "python",
   "nbconvert_exporter": "python",
   "pygments_lexer": "ipython3",
   "version": "3.9.13"
  },
  "orig_nbformat": 4
 },
 "nbformat": 4,
 "nbformat_minor": 2
}
