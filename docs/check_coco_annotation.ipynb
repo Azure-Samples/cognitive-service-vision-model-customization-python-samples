{
 "cells": [
  {
   "attachments": {},
   "cell_type": "markdown",
   "metadata": {},
   "source": [
    "# Check the format of your coco annotation file\n",
    "\n",
    "This notebook demonstrates how to check if the format of your annotaion file is correct. First, install the python samples pkg:"
   ]
  },
  {
   "cell_type": "code",
   "execution_count": null,
   "metadata": {
    "vscode": {
     "languageId": "bat"
    }
   },
   "outputs": [],
   "source": [
    "pip install cognitive-service-vision-model-customization-python-samples"
   ]
  },
  {
   "attachments": {},
   "cell_type": "markdown",
   "metadata": {},
   "source": [
    "Then you can run the following section to run the validation"
   ]
  },
  {
   "cell_type": "code",
   "execution_count": null,
   "metadata": {},
   "outputs": [],
   "source": [
    "from cognitive_service_vision_model_customization_python_samples import check_coco_annotation_file, AnnotationKind, Purpose\n",
    "import pathlib\n",
    "import json\n",
    "\n",
    "coco_file_path = pathlib.Path(\"{your_coco_file_path}\")\n",
    "annotation_kind = AnnotationKind.MULTICLASS_CLASSIFICATION # or AnnotationKind.OBJECT_DETECTION\n",
    "purpose = Purpose.TRAINING # or Purpose.EVALUATION\n",
    "\n",
    "check_coco_annotation_file(json.loads(coco_file_path.read_text()), annotation_kind, purpose)",
    "\n",
    "print(\"Data validation passed.\")"
   ]
  }
 ],
 "metadata": {
  "kernelspec": {
   "display_name": "venv",
   "language": "python",
   "name": "python3"
  },
  "language_info": {
   "codemirror_mode": {
    "name": "ipython",
    "version": 3
   },
   "file_extension": ".py",
   "mimetype": "text/x-python",
   "name": "python",
   "nbconvert_exporter": "python",
   "pygments_lexer": "ipython3",
   "version": "3.7.9"
  },
  "orig_nbformat": 4
 },
 "nbformat": 4,
 "nbformat_minor": 2
}
