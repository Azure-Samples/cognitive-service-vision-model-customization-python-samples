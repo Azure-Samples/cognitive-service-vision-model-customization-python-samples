{
 "cells": [
  {
   "attachments": {},
   "cell_type": "markdown",
   "metadata": {},
   "source": [
    "# Check the format of your coco annotation file\n",
    "\n",
    "This notebook demonstrates how to check if the format of your annotaion file is correct. First, install the python samples pkg:"
   ]
  },
  {
   "cell_type": "code",
   "execution_count": null,
   "metadata": {
    "vscode": {
     "languageId": "shellscript"
    }
   },
   "outputs": [],
   "source": [
    "pip install cognitive-service-model-vision-customization-python-samples"
   ]
  },
  {
   "attachments": {},
   "cell_type": "markdown",
   "metadata": {},
   "source": [
    "Then you can run the following section to run the validation"
   ]
  },
  {
   "cell_type": "code",
   "execution_count": null,
   "metadata": {},
   "outputs": [],
   "source": [
    "from cognitive_service_vision_model_customization_python_samples import check_coco_annotation_file, AnnotationKind\n",
    "import pathlib\n",
    "import json\n",
    "\n",
    "coco_file_path = pathlib.Path(\"{your_coco_file_path}\")\n",
    "annotation_kind = AnnotationKind.MULTICLASS_CLASSIFICATION # or AnnotationKind.OBJECT_DETECTION\n",
    "\n",
    "check_coco_annotation_file(json.loads(coco_file_path.read_text()), annotation_kind)"
   ]
  }
 ],
 "metadata": {
  "language_info": {
   "name": "python"
  },
  "orig_nbformat": 4
 },
 "nbformat": 4,
 "nbformat_minor": 2
}
